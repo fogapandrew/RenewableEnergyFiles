{
 "cells": [
  {
   "cell_type": "markdown",
   "id": "3f52b1c7",
   "metadata": {},
   "source": [
    "# Exploratory Data Analysis On dataset"
   ]
  },
  {
   "cell_type": "code",
   "execution_count": 551,
   "id": "b19b6170",
   "metadata": {},
   "outputs": [],
   "source": [
    "# put all your library imports here\n",
    "import numpy as np\n",
    "import pandas as pd\n",
    "import seaborn as sns\n",
    "import matplotlib.pyplot as plt\n",
    "%matplotlib inline\n",
    "import matplotlib"
   ]
  },
  {
   "cell_type": "raw",
   "id": "762ce24f",
   "metadata": {},
   "source": [
    "Exploratory data analysis steps \n",
    "- Data preparation and cleaning \n",
    "    * read \n",
    "    * desciptive statistics (desccribe, missing data)\n",
    "- Eploratory Analysis and visualization \n",
    "    * missing values visaulizations \n",
    "    * droping of misssing values \n",
    "    * Exploration of features (unique)\n",
    "    * visualize carteegorical and continues data"
   ]
  },
  {
   "cell_type": "markdown",
   "id": "de7b4701",
   "metadata": {},
   "source": [
    "## Data preparation and cleaning"
   ]
  },
  {
   "cell_type": "code",
   "execution_count": 552,
   "id": "a6650844",
   "metadata": {},
   "outputs": [],
   "source": [
    "# Read data\n",
    "data = pd.read_csv(\"Electricity_generation_yearly.csv\")"
   ]
  },
  {
   "cell_type": "code",
   "execution_count": 572,
   "id": "62730731",
   "metadata": {},
   "outputs": [
    {
     "data": {
      "text/html": [
       "<div>\n",
       "<style scoped>\n",
       "    .dataframe tbody tr th:only-of-type {\n",
       "        vertical-align: middle;\n",
       "    }\n",
       "\n",
       "    .dataframe tbody tr th {\n",
       "        vertical-align: top;\n",
       "    }\n",
       "\n",
       "    .dataframe thead th {\n",
       "        text-align: right;\n",
       "    }\n",
       "</style>\n",
       "<table border=\"1\" class=\"dataframe\">\n",
       "  <thead>\n",
       "    <tr style=\"text-align: right;\">\n",
       "      <th></th>\n",
       "      <th>NUTS0_code</th>\n",
       "      <th>datetime</th>\n",
       "      <th>energy_carrier</th>\n",
       "      <th>electricity_generation</th>\n",
       "    </tr>\n",
       "  </thead>\n",
       "  <tbody>\n",
       "    <tr>\n",
       "      <th>270</th>\n",
       "      <td>PL</td>\n",
       "      <td>2015-01-01</td>\n",
       "      <td>Biomass</td>\n",
       "      <td>6682</td>\n",
       "    </tr>\n",
       "    <tr>\n",
       "      <th>271</th>\n",
       "      <td>PL</td>\n",
       "      <td>2015-01-01</td>\n",
       "      <td>Hydro</td>\n",
       "      <td>2459</td>\n",
       "    </tr>\n",
       "    <tr>\n",
       "      <th>272</th>\n",
       "      <td>PL</td>\n",
       "      <td>2015-01-01</td>\n",
       "      <td>Wind</td>\n",
       "      <td>10365</td>\n",
       "    </tr>\n",
       "    <tr>\n",
       "      <th>273</th>\n",
       "      <td>PL</td>\n",
       "      <td>2015-01-01</td>\n",
       "      <td>PV</td>\n",
       "      <td>44</td>\n",
       "    </tr>\n",
       "    <tr>\n",
       "      <th>274</th>\n",
       "      <td>PL</td>\n",
       "      <td>2015-01-01</td>\n",
       "      <td>No information on source</td>\n",
       "      <td>0</td>\n",
       "    </tr>\n",
       "    <tr>\n",
       "      <th>275</th>\n",
       "      <td>PT</td>\n",
       "      <td>2015-01-01</td>\n",
       "      <td>Nuclear</td>\n",
       "      <td>0</td>\n",
       "    </tr>\n",
       "    <tr>\n",
       "      <th>276</th>\n",
       "      <td>PT</td>\n",
       "      <td>2015-01-01</td>\n",
       "      <td>Lignite</td>\n",
       "      <td>0</td>\n",
       "    </tr>\n",
       "    <tr>\n",
       "      <th>277</th>\n",
       "      <td>PT</td>\n",
       "      <td>2015-01-01</td>\n",
       "      <td>Hard coal</td>\n",
       "      <td>13679</td>\n",
       "    </tr>\n",
       "    <tr>\n",
       "      <th>278</th>\n",
       "      <td>PT</td>\n",
       "      <td>2015-01-01</td>\n",
       "      <td>Natural gas</td>\n",
       "      <td>9806</td>\n",
       "    </tr>\n",
       "    <tr>\n",
       "      <th>279</th>\n",
       "      <td>PT</td>\n",
       "      <td>2015-01-01</td>\n",
       "      <td>Oil</td>\n",
       "      <td>99</td>\n",
       "    </tr>\n",
       "    <tr>\n",
       "      <th>280</th>\n",
       "      <td>PT</td>\n",
       "      <td>2015-01-01</td>\n",
       "      <td>Other fossil fuels</td>\n",
       "      <td>0</td>\n",
       "    </tr>\n",
       "    <tr>\n",
       "      <th>281</th>\n",
       "      <td>PT</td>\n",
       "      <td>2015-01-01</td>\n",
       "      <td>Biomass</td>\n",
       "      <td>2632</td>\n",
       "    </tr>\n",
       "    <tr>\n",
       "      <th>282</th>\n",
       "      <td>PT</td>\n",
       "      <td>2015-01-01</td>\n",
       "      <td>Hydro</td>\n",
       "      <td>9614</td>\n",
       "    </tr>\n",
       "    <tr>\n",
       "      <th>283</th>\n",
       "      <td>PT</td>\n",
       "      <td>2015-01-01</td>\n",
       "      <td>Wind</td>\n",
       "      <td>11336</td>\n",
       "    </tr>\n",
       "    <tr>\n",
       "      <th>284</th>\n",
       "      <td>PT</td>\n",
       "      <td>2015-01-01</td>\n",
       "      <td>PV</td>\n",
       "      <td>759</td>\n",
       "    </tr>\n",
       "    <tr>\n",
       "      <th>285</th>\n",
       "      <td>PT</td>\n",
       "      <td>2015-01-01</td>\n",
       "      <td>No information on source</td>\n",
       "      <td>0</td>\n",
       "    </tr>\n",
       "    <tr>\n",
       "      <th>286</th>\n",
       "      <td>RO</td>\n",
       "      <td>2015-01-01</td>\n",
       "      <td>Nuclear</td>\n",
       "      <td>10695</td>\n",
       "    </tr>\n",
       "    <tr>\n",
       "      <th>287</th>\n",
       "      <td>RO</td>\n",
       "      <td>2015-01-01</td>\n",
       "      <td>Lignite</td>\n",
       "      <td>14467</td>\n",
       "    </tr>\n",
       "    <tr>\n",
       "      <th>288</th>\n",
       "      <td>RO</td>\n",
       "      <td>2015-01-01</td>\n",
       "      <td>Hard coal</td>\n",
       "      <td>1740</td>\n",
       "    </tr>\n",
       "    <tr>\n",
       "      <th>289</th>\n",
       "      <td>RO</td>\n",
       "      <td>2015-01-01</td>\n",
       "      <td>Natural gas</td>\n",
       "      <td>4496</td>\n",
       "    </tr>\n",
       "    <tr>\n",
       "      <th>290</th>\n",
       "      <td>RO</td>\n",
       "      <td>2015-01-01</td>\n",
       "      <td>Oil</td>\n",
       "      <td>0</td>\n",
       "    </tr>\n",
       "    <tr>\n",
       "      <th>291</th>\n",
       "      <td>RO</td>\n",
       "      <td>2015-01-01</td>\n",
       "      <td>Other fossil fuels</td>\n",
       "      <td>4260</td>\n",
       "    </tr>\n",
       "    <tr>\n",
       "      <th>292</th>\n",
       "      <td>RO</td>\n",
       "      <td>2015-01-01</td>\n",
       "      <td>Biomass</td>\n",
       "      <td>522</td>\n",
       "    </tr>\n",
       "    <tr>\n",
       "      <th>293</th>\n",
       "      <td>RO</td>\n",
       "      <td>2015-01-01</td>\n",
       "      <td>Hydro</td>\n",
       "      <td>16545</td>\n",
       "    </tr>\n",
       "    <tr>\n",
       "      <th>294</th>\n",
       "      <td>RO</td>\n",
       "      <td>2015-01-01</td>\n",
       "      <td>Wind</td>\n",
       "      <td>6993</td>\n",
       "    </tr>\n",
       "    <tr>\n",
       "      <th>295</th>\n",
       "      <td>RO</td>\n",
       "      <td>2015-01-01</td>\n",
       "      <td>PV</td>\n",
       "      <td>1982</td>\n",
       "    </tr>\n",
       "    <tr>\n",
       "      <th>296</th>\n",
       "      <td>RO</td>\n",
       "      <td>2015-01-01</td>\n",
       "      <td>No information on source</td>\n",
       "      <td>0</td>\n",
       "    </tr>\n",
       "    <tr>\n",
       "      <th>297</th>\n",
       "      <td>SE</td>\n",
       "      <td>2015-01-01</td>\n",
       "      <td>Nuclear</td>\n",
       "      <td>54347</td>\n",
       "    </tr>\n",
       "    <tr>\n",
       "      <th>298</th>\n",
       "      <td>SE</td>\n",
       "      <td>2015-01-01</td>\n",
       "      <td>Lignite</td>\n",
       "      <td>0</td>\n",
       "    </tr>\n",
       "    <tr>\n",
       "      <th>299</th>\n",
       "      <td>SE</td>\n",
       "      <td>2015-01-01</td>\n",
       "      <td>Hard coal</td>\n",
       "      <td>518</td>\n",
       "    </tr>\n",
       "    <tr>\n",
       "      <th>300</th>\n",
       "      <td>SE</td>\n",
       "      <td>2015-01-01</td>\n",
       "      <td>Natural gas</td>\n",
       "      <td>1015</td>\n",
       "    </tr>\n",
       "    <tr>\n",
       "      <th>301</th>\n",
       "      <td>SE</td>\n",
       "      <td>2015-01-01</td>\n",
       "      <td>Oil</td>\n",
       "      <td>146</td>\n",
       "    </tr>\n",
       "    <tr>\n",
       "      <th>302</th>\n",
       "      <td>SE</td>\n",
       "      <td>2015-01-01</td>\n",
       "      <td>Other fossil fuels</td>\n",
       "      <td>1001</td>\n",
       "    </tr>\n",
       "    <tr>\n",
       "      <th>303</th>\n",
       "      <td>SE</td>\n",
       "      <td>2015-01-01</td>\n",
       "      <td>Biomass</td>\n",
       "      <td>9805</td>\n",
       "    </tr>\n",
       "    <tr>\n",
       "      <th>304</th>\n",
       "      <td>SE</td>\n",
       "      <td>2015-01-01</td>\n",
       "      <td>Hydro</td>\n",
       "      <td>73972</td>\n",
       "    </tr>\n",
       "    <tr>\n",
       "      <th>305</th>\n",
       "      <td>SE</td>\n",
       "      <td>2015-01-01</td>\n",
       "      <td>Wind</td>\n",
       "      <td>16618</td>\n",
       "    </tr>\n",
       "    <tr>\n",
       "      <th>306</th>\n",
       "      <td>SE</td>\n",
       "      <td>2015-01-01</td>\n",
       "      <td>PV</td>\n",
       "      <td>0</td>\n",
       "    </tr>\n",
       "    <tr>\n",
       "      <th>307</th>\n",
       "      <td>SE</td>\n",
       "      <td>2015-01-01</td>\n",
       "      <td>No information on source</td>\n",
       "      <td>0</td>\n",
       "    </tr>\n",
       "    <tr>\n",
       "      <th>308</th>\n",
       "      <td>SI</td>\n",
       "      <td>2015-01-01</td>\n",
       "      <td>Nuclear</td>\n",
       "      <td>5361</td>\n",
       "    </tr>\n",
       "    <tr>\n",
       "      <th>309</th>\n",
       "      <td>SI</td>\n",
       "      <td>2015-01-01</td>\n",
       "      <td>Lignite</td>\n",
       "      <td>3806</td>\n",
       "    </tr>\n",
       "    <tr>\n",
       "      <th>310</th>\n",
       "      <td>SI</td>\n",
       "      <td>2015-01-01</td>\n",
       "      <td>Hard coal</td>\n",
       "      <td>0</td>\n",
       "    </tr>\n",
       "    <tr>\n",
       "      <th>311</th>\n",
       "      <td>SI</td>\n",
       "      <td>2015-01-01</td>\n",
       "      <td>Natural gas</td>\n",
       "      <td>6</td>\n",
       "    </tr>\n",
       "    <tr>\n",
       "      <th>312</th>\n",
       "      <td>SI</td>\n",
       "      <td>2015-01-01</td>\n",
       "      <td>Oil</td>\n",
       "      <td>0</td>\n",
       "    </tr>\n",
       "    <tr>\n",
       "      <th>313</th>\n",
       "      <td>SI</td>\n",
       "      <td>2015-01-01</td>\n",
       "      <td>Other fossil fuels</td>\n",
       "      <td>0</td>\n",
       "    </tr>\n",
       "    <tr>\n",
       "      <th>314</th>\n",
       "      <td>SI</td>\n",
       "      <td>2015-01-01</td>\n",
       "      <td>Biomass</td>\n",
       "      <td>155</td>\n",
       "    </tr>\n",
       "    <tr>\n",
       "      <th>315</th>\n",
       "      <td>SI</td>\n",
       "      <td>2015-01-01</td>\n",
       "      <td>Hydro</td>\n",
       "      <td>4060</td>\n",
       "    </tr>\n",
       "    <tr>\n",
       "      <th>316</th>\n",
       "      <td>SI</td>\n",
       "      <td>2015-01-01</td>\n",
       "      <td>Wind</td>\n",
       "      <td>4</td>\n",
       "    </tr>\n",
       "    <tr>\n",
       "      <th>317</th>\n",
       "      <td>SI</td>\n",
       "      <td>2015-01-01</td>\n",
       "      <td>PV</td>\n",
       "      <td>245</td>\n",
       "    </tr>\n",
       "    <tr>\n",
       "      <th>318</th>\n",
       "      <td>SI</td>\n",
       "      <td>2015-01-01</td>\n",
       "      <td>No information on source</td>\n",
       "      <td>140</td>\n",
       "    </tr>\n",
       "    <tr>\n",
       "      <th>319</th>\n",
       "      <td>SK</td>\n",
       "      <td>2015-01-01</td>\n",
       "      <td>Nuclear</td>\n",
       "      <td>14103</td>\n",
       "    </tr>\n",
       "    <tr>\n",
       "      <th>320</th>\n",
       "      <td>SK</td>\n",
       "      <td>2015-01-01</td>\n",
       "      <td>Lignite</td>\n",
       "      <td>1635</td>\n",
       "    </tr>\n",
       "    <tr>\n",
       "      <th>321</th>\n",
       "      <td>SK</td>\n",
       "      <td>2015-01-01</td>\n",
       "      <td>Hard coal</td>\n",
       "      <td>878</td>\n",
       "    </tr>\n",
       "    <tr>\n",
       "      <th>322</th>\n",
       "      <td>SK</td>\n",
       "      <td>2015-01-01</td>\n",
       "      <td>Natural gas</td>\n",
       "      <td>1781</td>\n",
       "    </tr>\n",
       "    <tr>\n",
       "      <th>323</th>\n",
       "      <td>SK</td>\n",
       "      <td>2015-01-01</td>\n",
       "      <td>Oil</td>\n",
       "      <td>267</td>\n",
       "    </tr>\n",
       "    <tr>\n",
       "      <th>324</th>\n",
       "      <td>SK</td>\n",
       "      <td>2015-01-01</td>\n",
       "      <td>Other fossil fuels</td>\n",
       "      <td>0</td>\n",
       "    </tr>\n",
       "    <tr>\n",
       "      <th>325</th>\n",
       "      <td>SK</td>\n",
       "      <td>2015-01-01</td>\n",
       "      <td>Biomass</td>\n",
       "      <td>1103</td>\n",
       "    </tr>\n",
       "    <tr>\n",
       "      <th>326</th>\n",
       "      <td>SK</td>\n",
       "      <td>2015-01-01</td>\n",
       "      <td>Hydro</td>\n",
       "      <td>4280</td>\n",
       "    </tr>\n",
       "    <tr>\n",
       "      <th>327</th>\n",
       "      <td>SK</td>\n",
       "      <td>2015-01-01</td>\n",
       "      <td>Wind</td>\n",
       "      <td>6</td>\n",
       "    </tr>\n",
       "    <tr>\n",
       "      <th>328</th>\n",
       "      <td>SK</td>\n",
       "      <td>2015-01-01</td>\n",
       "      <td>PV</td>\n",
       "      <td>549</td>\n",
       "    </tr>\n",
       "    <tr>\n",
       "      <th>329</th>\n",
       "      <td>SK</td>\n",
       "      <td>2015-01-01</td>\n",
       "      <td>No information on source</td>\n",
       "      <td>58</td>\n",
       "    </tr>\n",
       "  </tbody>\n",
       "</table>\n",
       "</div>"
      ],
      "text/plain": [
       "    NUTS0_code   datetime            energy_carrier  electricity_generation\n",
       "270         PL 2015-01-01                   Biomass                    6682\n",
       "271         PL 2015-01-01                     Hydro                    2459\n",
       "272         PL 2015-01-01                     Wind                    10365\n",
       "273         PL 2015-01-01                        PV                      44\n",
       "274         PL 2015-01-01  No information on source                       0\n",
       "275         PT 2015-01-01                   Nuclear                       0\n",
       "276         PT 2015-01-01                   Lignite                       0\n",
       "277         PT 2015-01-01                 Hard coal                   13679\n",
       "278         PT 2015-01-01               Natural gas                    9806\n",
       "279         PT 2015-01-01                       Oil                      99\n",
       "280         PT 2015-01-01        Other fossil fuels                       0\n",
       "281         PT 2015-01-01                   Biomass                    2632\n",
       "282         PT 2015-01-01                     Hydro                    9614\n",
       "283         PT 2015-01-01                     Wind                    11336\n",
       "284         PT 2015-01-01                        PV                     759\n",
       "285         PT 2015-01-01  No information on source                       0\n",
       "286         RO 2015-01-01                   Nuclear                   10695\n",
       "287         RO 2015-01-01                   Lignite                   14467\n",
       "288         RO 2015-01-01                 Hard coal                    1740\n",
       "289         RO 2015-01-01               Natural gas                    4496\n",
       "290         RO 2015-01-01                       Oil                       0\n",
       "291         RO 2015-01-01        Other fossil fuels                    4260\n",
       "292         RO 2015-01-01                   Biomass                     522\n",
       "293         RO 2015-01-01                     Hydro                   16545\n",
       "294         RO 2015-01-01                     Wind                     6993\n",
       "295         RO 2015-01-01                        PV                    1982\n",
       "296         RO 2015-01-01  No information on source                       0\n",
       "297         SE 2015-01-01                   Nuclear                   54347\n",
       "298         SE 2015-01-01                   Lignite                       0\n",
       "299         SE 2015-01-01                 Hard coal                     518\n",
       "300         SE 2015-01-01               Natural gas                    1015\n",
       "301         SE 2015-01-01                       Oil                     146\n",
       "302         SE 2015-01-01        Other fossil fuels                    1001\n",
       "303         SE 2015-01-01                   Biomass                    9805\n",
       "304         SE 2015-01-01                     Hydro                   73972\n",
       "305         SE 2015-01-01                     Wind                    16618\n",
       "306         SE 2015-01-01                        PV                       0\n",
       "307         SE 2015-01-01  No information on source                       0\n",
       "308         SI 2015-01-01                   Nuclear                    5361\n",
       "309         SI 2015-01-01                   Lignite                    3806\n",
       "310         SI 2015-01-01                 Hard coal                       0\n",
       "311         SI 2015-01-01               Natural gas                       6\n",
       "312         SI 2015-01-01                       Oil                       0\n",
       "313         SI 2015-01-01        Other fossil fuels                       0\n",
       "314         SI 2015-01-01                   Biomass                     155\n",
       "315         SI 2015-01-01                     Hydro                    4060\n",
       "316         SI 2015-01-01                     Wind                        4\n",
       "317         SI 2015-01-01                        PV                     245\n",
       "318         SI 2015-01-01  No information on source                     140\n",
       "319         SK 2015-01-01                   Nuclear                   14103\n",
       "320         SK 2015-01-01                   Lignite                    1635\n",
       "321         SK 2015-01-01                 Hard coal                     878\n",
       "322         SK 2015-01-01               Natural gas                    1781\n",
       "323         SK 2015-01-01                       Oil                     267\n",
       "324         SK 2015-01-01        Other fossil fuels                       0\n",
       "325         SK 2015-01-01                   Biomass                    1103\n",
       "326         SK 2015-01-01                     Hydro                    4280\n",
       "327         SK 2015-01-01                     Wind                        6\n",
       "328         SK 2015-01-01                        PV                     549\n",
       "329         SK 2015-01-01  No information on source                      58"
      ]
     },
     "execution_count": 572,
     "metadata": {},
     "output_type": "execute_result"
    }
   ],
   "source": [
    "data.tail(60)"
   ]
  },
  {
   "cell_type": "code",
   "execution_count": 554,
   "id": "da16a24c",
   "metadata": {},
   "outputs": [
    {
     "data": {
      "text/plain": [
       "(330, 4)"
      ]
     },
     "execution_count": 554,
     "metadata": {},
     "output_type": "execute_result"
    }
   ],
   "source": [
    "data.shape"
   ]
  },
  {
   "cell_type": "raw",
   "id": "1bda0a5f",
   "metadata": {},
   "source": [
    "The above table shows the yearly Electricoty generation in GWH for EU28.\n",
    "\n",
    "The dataset contains 330 rows and 4 columns.\n",
    "\n",
    "NUTS0_code: A two-letter code that identifies the NUTS0 region in Europe. For example, \"AT\" likely refers to the entire country of Austria.\n",
    "\n",
    "Datetime: The date and time of the electricity generation data. \n",
    "\n",
    "Energy_carrier: The type of fuel or energy source used to generate electricity. This dataset includes nuclear, lignite, hard coal, natural gas, and oil.\n",
    "\n",
    "Electricity_generation: The amount of electricity generated from each energy source in the given NUTS0 region and time period, unit is GWH."
   ]
  },
  {
   "cell_type": "markdown",
   "id": "cfd0fa26",
   "metadata": {},
   "source": [
    "### Desciptive statistics (desccribe, missing data)"
   ]
  },
  {
   "cell_type": "code",
   "execution_count": 557,
   "id": "f2d12a86",
   "metadata": {},
   "outputs": [
    {
     "name": "stdout",
     "output_type": "stream",
     "text": [
      "<class 'pandas.core.frame.DataFrame'>\n",
      "RangeIndex: 330 entries, 0 to 329\n",
      "Data columns (total 4 columns):\n",
      " #   Column                  Non-Null Count  Dtype \n",
      "---  ------                  --------------  ----- \n",
      " 0   NUTS0_code              330 non-null    object\n",
      " 1   datetime                330 non-null    object\n",
      " 2   energy_carrier          330 non-null    object\n",
      " 3   electricity_generation  330 non-null    int64 \n",
      "dtypes: int64(1), object(3)\n",
      "memory usage: 10.4+ KB\n"
     ]
    }
   ],
   "source": [
    "data.info()"
   ]
  },
  {
   "cell_type": "code",
   "execution_count": 558,
   "id": "0004c494",
   "metadata": {},
   "outputs": [
    {
     "data": {
      "text/html": [
       "<div>\n",
       "<style scoped>\n",
       "    .dataframe tbody tr th:only-of-type {\n",
       "        vertical-align: middle;\n",
       "    }\n",
       "\n",
       "    .dataframe tbody tr th {\n",
       "        vertical-align: top;\n",
       "    }\n",
       "\n",
       "    .dataframe thead th {\n",
       "        text-align: right;\n",
       "    }\n",
       "</style>\n",
       "<table border=\"1\" class=\"dataframe\">\n",
       "  <thead>\n",
       "    <tr style=\"text-align: right;\">\n",
       "      <th></th>\n",
       "      <th>electricity_generation</th>\n",
       "    </tr>\n",
       "  </thead>\n",
       "  <tbody>\n",
       "    <tr>\n",
       "      <th>count</th>\n",
       "      <td>330.000000</td>\n",
       "    </tr>\n",
       "    <tr>\n",
       "      <th>mean</th>\n",
       "      <td>9282.584848</td>\n",
       "    </tr>\n",
       "    <tr>\n",
       "      <th>std</th>\n",
       "      <td>29797.970208</td>\n",
       "    </tr>\n",
       "    <tr>\n",
       "      <th>min</th>\n",
       "      <td>0.000000</td>\n",
       "    </tr>\n",
       "    <tr>\n",
       "      <th>25%</th>\n",
       "      <td>0.000000</td>\n",
       "    </tr>\n",
       "    <tr>\n",
       "      <th>50%</th>\n",
       "      <td>256.000000</td>\n",
       "    </tr>\n",
       "    <tr>\n",
       "      <th>75%</th>\n",
       "      <td>5332.000000</td>\n",
       "    </tr>\n",
       "    <tr>\n",
       "      <th>max</th>\n",
       "      <td>416796.000000</td>\n",
       "    </tr>\n",
       "  </tbody>\n",
       "</table>\n",
       "</div>"
      ],
      "text/plain": [
       "       electricity_generation\n",
       "count              330.000000\n",
       "mean              9282.584848\n",
       "std              29797.970208\n",
       "min                  0.000000\n",
       "25%                  0.000000\n",
       "50%                256.000000\n",
       "75%               5332.000000\n",
       "max             416796.000000"
      ]
     },
     "execution_count": 558,
     "metadata": {},
     "output_type": "execute_result"
    }
   ],
   "source": [
    "data.describe()"
   ]
  },
  {
   "cell_type": "raw",
   "id": "77626ce3",
   "metadata": {},
   "source": [
    "From above we can get a descriptive analysis of the electricity_generated. \n",
    "Max = 416796GWh\n",
    "min = 0GWh"
   ]
  },
  {
   "cell_type": "code",
   "execution_count": 559,
   "id": "3f6c936e",
   "metadata": {},
   "outputs": [
    {
     "data": {
      "text/plain": [
       "NUTS0_code                0\n",
       "datetime                  0\n",
       "energy_carrier            0\n",
       "electricity_generation    0\n",
       "dtype: int64"
      ]
     },
     "execution_count": 559,
     "metadata": {},
     "output_type": "execute_result"
    }
   ],
   "source": [
    "# Checking for null values \n",
    "data.isnull().sum().sort_values(ascending = False)"
   ]
  },
  {
   "cell_type": "code",
   "execution_count": 560,
   "id": "bb81cf2d",
   "metadata": {},
   "outputs": [
    {
     "data": {
      "text/plain": [
       "0"
      ]
     },
     "execution_count": 560,
     "metadata": {},
     "output_type": "execute_result"
    }
   ],
   "source": [
    "# Check duplicates\n",
    "data.duplicated().sum()"
   ]
  },
  {
   "cell_type": "code",
   "execution_count": null,
   "id": "aa42f925",
   "metadata": {},
   "outputs": [],
   "source": []
  },
  {
   "cell_type": "markdown",
   "id": "7d65951c",
   "metadata": {},
   "source": [
    "## Exploratory Analysis and visualization "
   ]
  },
  {
   "cell_type": "markdown",
   "id": "a0ba5476",
   "metadata": {},
   "source": [
    "### Exploration of features (unique)"
   ]
  },
  {
   "cell_type": "code",
   "execution_count": 561,
   "id": "abb97f67",
   "metadata": {},
   "outputs": [
    {
     "data": {
      "text/plain": [
       "NUTS0_code                 30\n",
       "datetime                    1\n",
       "energy_carrier             11\n",
       "electricity_generation    198\n",
       "dtype: int64"
      ]
     },
     "execution_count": 561,
     "metadata": {},
     "output_type": "execute_result"
    }
   ],
   "source": [
    "data.nunique()\n",
    "# this gives us the number of unique values. "
   ]
  },
  {
   "cell_type": "code",
   "execution_count": 562,
   "id": "29c03997",
   "metadata": {},
   "outputs": [
    {
     "data": {
      "text/plain": [
       "array(['Nuclear', 'Lignite', 'Hard coal', 'Natural gas', 'Oil',\n",
       "       'Other fossil fuels', 'Biomass', 'Hydro', 'Wind ', 'PV',\n",
       "       'No information on source'], dtype=object)"
      ]
     },
     "execution_count": 562,
     "metadata": {},
     "output_type": "execute_result"
    }
   ],
   "source": [
    "data[\"energy_carrier\"].unique()"
   ]
  },
  {
   "cell_type": "code",
   "execution_count": 564,
   "id": "4a23383e",
   "metadata": {},
   "outputs": [
    {
     "data": {
      "text/plain": [
       "array(['AT', 'BE', 'BG', 'CH', 'CY', 'CZ', 'DE', 'DK', 'EE', 'ES', 'FI',\n",
       "       'FR', 'UK', 'EL', 'HR', 'HU', 'IE', 'IS', 'IT', 'LT', 'LU', 'LV',\n",
       "       'NL', 'NO', 'PL', 'PT', 'RO', 'SE', 'SI', 'SK'], dtype=object)"
      ]
     },
     "execution_count": 564,
     "metadata": {},
     "output_type": "execute_result"
    }
   ],
   "source": [
    "data[\"NUTS0_code\"].unique()"
   ]
  },
  {
   "cell_type": "code",
   "execution_count": 565,
   "id": "1e44c447",
   "metadata": {},
   "outputs": [
    {
     "data": {
      "text/plain": [
       "array(['2015/01/01 00:00:00'], dtype=object)"
      ]
     },
     "execution_count": 565,
     "metadata": {},
     "output_type": "execute_result"
    }
   ],
   "source": [
    "data[\"datetime\"].unique()"
   ]
  },
  {
   "cell_type": "code",
   "execution_count": 566,
   "id": "3748dcd6",
   "metadata": {},
   "outputs": [
    {
     "data": {
      "text/plain": [
       "array([     0,   2972,   7536,    854,  36240,   3989,   7755,  24572,\n",
       "         4016,  20835,    101,   2794,   1367,   5380,   3038,    175,\n",
       "        14305,  18772,    966,   1321,    193,   6155,   1436,   1371,\n",
       "        22095,  39554,    132,   4174,    231,  25340,  32238,   4825,\n",
       "         4902,     41,   1893,   2963,    563,   2223,  86767, 143068,\n",
       "       107131,  53155,   5245,  10876,  38465,  23657,  75680,  35150,\n",
       "         6911,   3514,     81,   2345,     20,  14086,    593,    757,\n",
       "           28,    696,  54755,   4459,  48581,  48594,  13005,   4636,\n",
       "        30813,  48107,  13305,   1265,  22323,   5518,   5034,    184,\n",
       "         2719,  10685,  16586,   2329,    779, 416796,   8605,  22082,\n",
       "         3375,   7878,  58724,  21067,   7432,  65681,  84756,  84613,\n",
       "           11,   7973,  23963,   1427,  19417,   7269,    221,   6099,\n",
       "         3744,   3573,   2096,    808,   5657,    788,  14861,   5493,\n",
       "          492,   3160,     49,   1642,    227,    670,     13,   2522,\n",
       "         4843,  11483,     32,   1086,   6536,      2,  13670,  38380,\n",
       "        91451,   4163,  28010,  18805,  44562,  14706,  23913,   1469,\n",
       "          590,    385,   1013,    805,     73,    807,     52,   1533,\n",
       "           95,     98,     87,   2031,    615,    360,   1860,    146,\n",
       "         4034,   4002,    108,   7134,   3491, 139014,   2515,  48987,\n",
       "        68443,   4059,   6682,   2459,  10365,     44,  13679,   9806,\n",
       "           99,   2632,   9614,  11336,    759,  10695,  14467,   1740,\n",
       "         4496,   4260,    522,  16545,   6993,   1982,  54347,    518,\n",
       "         1015,   1001,   9805,  73972,  16618,   5361,   3806,      6,\n",
       "          155,   4060,      4,    245,    140,  14103,   1635,    878,\n",
       "         1781,    267,   1103,   4280,    549,     58], dtype=int64)"
      ]
     },
     "execution_count": 566,
     "metadata": {},
     "output_type": "execute_result"
    }
   ],
   "source": [
    "data[\"electricity_generation\"].unique()"
   ]
  },
  {
   "cell_type": "code",
   "execution_count": 567,
   "id": "4daf63aa",
   "metadata": {},
   "outputs": [],
   "source": [
    "# Convert datetime column to datetime format\n",
    "data['datetime'] = pd.to_datetime(data['datetime'])"
   ]
  },
  {
   "cell_type": "markdown",
   "id": "70c0de2b",
   "metadata": {},
   "source": [
    "### visualize cartegorical and continues data"
   ]
  },
  {
   "cell_type": "code",
   "execution_count": 568,
   "id": "2396ed2d",
   "metadata": {},
   "outputs": [
    {
     "data": {
      "text/html": [
       "<div>\n",
       "<style scoped>\n",
       "    .dataframe tbody tr th:only-of-type {\n",
       "        vertical-align: middle;\n",
       "    }\n",
       "\n",
       "    .dataframe tbody tr th {\n",
       "        vertical-align: top;\n",
       "    }\n",
       "\n",
       "    .dataframe thead th {\n",
       "        text-align: right;\n",
       "    }\n",
       "</style>\n",
       "<table border=\"1\" class=\"dataframe\">\n",
       "  <thead>\n",
       "    <tr style=\"text-align: right;\">\n",
       "      <th></th>\n",
       "      <th>NUTS0_code</th>\n",
       "      <th>datetime</th>\n",
       "      <th>energy_carrier</th>\n",
       "      <th>electricity_generation</th>\n",
       "    </tr>\n",
       "  </thead>\n",
       "  <tbody>\n",
       "    <tr>\n",
       "      <th>0</th>\n",
       "      <td>AT</td>\n",
       "      <td>2015-01-01</td>\n",
       "      <td>Nuclear</td>\n",
       "      <td>0</td>\n",
       "    </tr>\n",
       "    <tr>\n",
       "      <th>1</th>\n",
       "      <td>AT</td>\n",
       "      <td>2015-01-01</td>\n",
       "      <td>Lignite</td>\n",
       "      <td>0</td>\n",
       "    </tr>\n",
       "    <tr>\n",
       "      <th>2</th>\n",
       "      <td>AT</td>\n",
       "      <td>2015-01-01</td>\n",
       "      <td>Hard coal</td>\n",
       "      <td>2972</td>\n",
       "    </tr>\n",
       "    <tr>\n",
       "      <th>3</th>\n",
       "      <td>AT</td>\n",
       "      <td>2015-01-01</td>\n",
       "      <td>Natural gas</td>\n",
       "      <td>7536</td>\n",
       "    </tr>\n",
       "    <tr>\n",
       "      <th>4</th>\n",
       "      <td>AT</td>\n",
       "      <td>2015-01-01</td>\n",
       "      <td>Oil</td>\n",
       "      <td>854</td>\n",
       "    </tr>\n",
       "  </tbody>\n",
       "</table>\n",
       "</div>"
      ],
      "text/plain": [
       "  NUTS0_code   datetime energy_carrier  electricity_generation\n",
       "0         AT 2015-01-01        Nuclear                       0\n",
       "1         AT 2015-01-01        Lignite                       0\n",
       "2         AT 2015-01-01      Hard coal                    2972\n",
       "3         AT 2015-01-01    Natural gas                    7536\n",
       "4         AT 2015-01-01            Oil                     854"
      ]
     },
     "execution_count": 568,
     "metadata": {},
     "output_type": "execute_result"
    }
   ],
   "source": [
    "data.head()"
   ]
  },
  {
   "cell_type": "markdown",
   "id": "b919736e",
   "metadata": {},
   "source": [
    "#### Total Electricity Generated by each country in 2015"
   ]
  },
  {
   "cell_type": "code",
   "execution_count": 569,
   "id": "8a1e6e96",
   "metadata": {},
   "outputs": [
    {
     "name": "stdout",
     "output_type": "stream",
     "text": [
      "NUTS0_code\n",
      "AT     59346\n",
      "BE     62278\n",
      "BG     44519\n",
      "CH     61781\n",
      "CY      4405\n",
      "CZ     74988\n",
      "DE    579194\n",
      "DK     27550\n",
      "EE      1481\n",
      "EL     40323\n",
      "ES    267520\n",
      "FI     66157\n",
      "FR    545959\n",
      "HR      9611\n",
      "HU     26607\n",
      "IE     26502\n",
      "IS     13683\n",
      "IT    263990\n",
      "LT      4335\n",
      "LU      2672\n",
      "LV      5012\n",
      "NL     15373\n",
      "NO    145020\n",
      "PL    141039\n",
      "PT     47925\n",
      "RO     61700\n",
      "SE    157422\n",
      "SI     13777\n",
      "SK     24660\n",
      "UK    268424\n",
      "Name: electricity_generation, dtype: int64\n"
     ]
    }
   ],
   "source": [
    "# group the data by country and sum the electricity generation values\n",
    "grouped = data.groupby('NUTS0_code')['electricity_generation'].sum()\n",
    "\n",
    "print(grouped)"
   ]
  },
  {
   "cell_type": "code",
   "execution_count": 570,
   "id": "f0e45273",
   "metadata": {
    "scrolled": true
   },
   "outputs": [
    {
     "data": {
      "image/png": "[encoded data removed]",
      "text/plain": [
       "<Figure size 1440x720 with 1 Axes>"
      ]
     },
     "metadata": {
      "needs_background": "light"
     },
     "output_type": "display_data"
    }
   ],
   "source": [
    "grouped_sorted = grouped.sort_values(ascending=True)\n",
    "plt.rcParams['figure.figsize'] = (20, 10)\n",
    "grouped_sorted.plot(kind='barh')\n",
    "plt.title('Total Electricity Generation per Country')\n",
    "plt.show()"
   ]
  },
  {
   "cell_type": "markdown",
   "id": "9c11b940",
   "metadata": {},
   "source": [
    "### Visualize the distribution of electricity generated per energy carrier for each region"
   ]
  },
  {
   "cell_type": "code",
   "execution_count": 495,
   "id": "dc1155a5",
   "metadata": {
    "scrolled": true
   },
   "outputs": [
    {
     "data": {
      "image/png": "[encoded data removed]",
      "text/plain": [
       "<Figure size 16200x360 with 30 Axes>"
      ]
     },
     "metadata": {
      "needs_background": "light"
     },
     "output_type": "display_data"
    }
   ],
   "source": [
    "sns.catplot(x='energy_carrier', y='electricity_generation', col='NUTS0_code', kind='bar', data=data ,  aspect=1.5)\n",
    "plt.show()"
   ]
  },
  {
   "cell_type": "markdown",
   "id": "26e1f532",
   "metadata": {},
   "source": [
    "### Showing the top 3 energy carrier for electricity per region"
   ]
  },
  {
   "cell_type": "code",
   "execution_count": 498,
   "id": "5c1866cc",
   "metadata": {},
   "outputs": [
    {
     "name": "stdout",
     "output_type": "stream",
     "text": [
      "Top three energy carriers in AT: Hydro, No information on source, Natural gas\n",
      "Top three energy carriers in BE: Nuclear, Natural gas, Wind \n",
      "Top three energy carriers in BG: Lignite, Nuclear, Hydro\n",
      "Top three energy carriers in CH: Hydro, Nuclear, Wind \n",
      "Top three energy carriers in CY: Oil, Wind , Biomass\n",
      "Top three energy carriers in CZ: Lignite, Nuclear, Natural gas\n",
      "Top three energy carriers in DE: Lignite, Hard coal, Nuclear\n",
      "Top three energy carriers in DK: Wind , Hard coal, Natural gas\n",
      "Top three energy carriers in EE: Biomass, Wind , Hydro\n",
      "Top three energy carriers in EL: Lignite, Natural gas, Hydro\n",
      "Top three energy carriers in ES: Nuclear, Natural gas, Hard coal\n",
      "Top three energy carriers in FI: Nuclear, Hydro, Biomass\n",
      "Top three energy carriers in FR: Nuclear, Hydro, Natural gas\n",
      "Top three energy carriers in HR: Hydro, Hard coal, Natural gas\n",
      "Top three energy carriers in HU: Nuclear, Lignite, Natural gas\n",
      "Top three energy carriers in IE: Natural gas, Wind , Hard coal\n",
      "Top three energy carriers in IS: Hydro, Wind , Oil\n",
      "Top three energy carriers in IT: Natural gas, Hydro, Hard coal\n",
      "Top three energy carriers in LT: Natural gas, Hydro, Wind \n",
      "Top three energy carriers in LU: Hydro, Natural gas, PV\n",
      "Top three energy carriers in LV: Natural gas, Hydro, Other fossil fuels\n",
      "Top three energy carriers in NL: Wind , Nuclear, Biomass\n",
      "Top three energy carriers in NO: Hydro, Natural gas, Wind \n",
      "Top three energy carriers in PL: Hard coal, Lignite, Wind \n",
      "Top three energy carriers in PT: Hard coal, Wind , Natural gas\n",
      "Top three energy carriers in RO: Hydro, Lignite, Nuclear\n",
      "Top three energy carriers in SE: Hydro, Nuclear, Wind \n",
      "Top three energy carriers in SI: Nuclear, Hydro, Lignite\n",
      "Top three energy carriers in SK: Nuclear, Hydro, Natural gas\n",
      "Top three energy carriers in UK: Hard coal, Natural gas, Nuclear\n"
     ]
    }
   ],
   "source": [
    "# group the data by NUTS0_code and energy_carrier, and sum the electricity_generation\n",
    "grouped = data.groupby(['NUTS0_code', 'energy_carrier'])['electricity_generation'].sum()\n",
    "\n",
    "# sort the data by NUTS0_code and electricity_generation, and group by NUTS0_code\n",
    "sorted_grouped = grouped.reset_index().sort_values(['NUTS0_code', 'electricity_generation'], ascending=[True, False])\n",
    "sorted_grouped = sorted_grouped.groupby('NUTS0_code').head(3)\n",
    "\n",
    "# print the top three energy carriers per region\n",
    "for region, group in sorted_grouped.groupby('NUTS0_code'):\n",
    "    print(f\"Top three energy carriers in {region}: {', '.join(group['energy_carrier'].values)}\")"
   ]
  },
  {
   "cell_type": "code",
   "execution_count": 499,
   "id": "44c6e5ba",
   "metadata": {},
   "outputs": [
    {
     "data": {
      "image/png": "[encoded data removed]",
      "text/plain": [
       "<Figure size 720x432 with 1 Axes>"
      ]
     },
     "metadata": {
      "needs_background": "light"
     },
     "output_type": "display_data"
    }
   ],
   "source": [
    "# Group data by region and sum the energy consumption by energy carrier\n",
    "grouped_data = data.groupby(['NUTS0_code', 'energy_carrier'])['electricity_generation'].sum().reset_index()\n",
    "\n",
    "# Get the top 3 energy carriers per region\n",
    "top_3 = grouped_data.groupby('NUTS0_code').apply(lambda x: x.nlargest(3, 'electricity_generation')).reset_index(drop=True)\n",
    "\n",
    "# Create a horizontal bar chart\n",
    "fig, ax = plt.subplots(figsize=(10, 6))\n",
    "\n",
    "for i, (region, group) in enumerate(top_3.groupby('NUTS0_code')):\n",
    "    ax.barh(y=group['energy_carrier'], width=group['electricity_generation'], height=0.6, color=f'C{i}')\n",
    "\n",
    "ax.set_xlabel('Energy consumption (TWh)')\n",
    "ax.set_ylabel('Energy carrier')\n",
    "ax.set_title('Top 3 energy carriers per region')\n",
    "ax.legend(top_3['NUTS0_code'].unique())\n",
    "\n",
    "plt.show()"
   ]
  },
  {
   "cell_type": "code",
   "execution_count": null,
   "id": "6986d856",
   "metadata": {},
   "outputs": [],
   "source": []
  },
  {
   "cell_type": "markdown",
   "id": "35418ca0",
   "metadata": {},
   "source": [
    "## Importing data for electricity price per region"
   ]
  },
  {
   "cell_type": "code",
   "execution_count": 546,
   "id": "1da574ae",
   "metadata": {},
   "outputs": [],
   "source": [
    "data_price = pd.read_csv('Electricity_prices_2015.csv')"
   ]
  },
  {
   "cell_type": "code",
   "execution_count": 547,
   "id": "2ba6c614",
   "metadata": {},
   "outputs": [
    {
     "data": {
      "text/html": [
       "<div>\n",
       "<style scoped>\n",
       "    .dataframe tbody tr th:only-of-type {\n",
       "        vertical-align: middle;\n",
       "    }\n",
       "\n",
       "    .dataframe tbody tr th {\n",
       "        vertical-align: top;\n",
       "    }\n",
       "\n",
       "    .dataframe thead th {\n",
       "        text-align: right;\n",
       "    }\n",
       "</style>\n",
       "<table border=\"1\" class=\"dataframe\">\n",
       "  <thead>\n",
       "    <tr style=\"text-align: right;\">\n",
       "      <th></th>\n",
       "      <th>NUTS0_code</th>\n",
       "      <th>datetime</th>\n",
       "      <th>year</th>\n",
       "      <th>hour</th>\n",
       "      <th>price</th>\n",
       "    </tr>\n",
       "  </thead>\n",
       "  <tbody>\n",
       "    <tr>\n",
       "      <th>0</th>\n",
       "      <td>AT</td>\n",
       "      <td>2015/01/01 00:00:00</td>\n",
       "      <td>2015</td>\n",
       "      <td>1</td>\n",
       "      <td>30.02</td>\n",
       "    </tr>\n",
       "    <tr>\n",
       "      <th>1</th>\n",
       "      <td>AT</td>\n",
       "      <td>2015/01/01 01:00:00</td>\n",
       "      <td>2015</td>\n",
       "      <td>2</td>\n",
       "      <td>30.57</td>\n",
       "    </tr>\n",
       "    <tr>\n",
       "      <th>2</th>\n",
       "      <td>AT</td>\n",
       "      <td>2015/01/01 02:00:00</td>\n",
       "      <td>2015</td>\n",
       "      <td>3</td>\n",
       "      <td>30.25</td>\n",
       "    </tr>\n",
       "    <tr>\n",
       "      <th>3</th>\n",
       "      <td>AT</td>\n",
       "      <td>2015/01/01 03:00:00</td>\n",
       "      <td>2015</td>\n",
       "      <td>4</td>\n",
       "      <td>30.29</td>\n",
       "    </tr>\n",
       "    <tr>\n",
       "      <th>4</th>\n",
       "      <td>AT</td>\n",
       "      <td>2015/01/01 04:00:00</td>\n",
       "      <td>2015</td>\n",
       "      <td>5</td>\n",
       "      <td>30.63</td>\n",
       "    </tr>\n",
       "  </tbody>\n",
       "</table>\n",
       "</div>"
      ],
      "text/plain": [
       "  NUTS0_code             datetime  year  hour  price\n",
       "0         AT  2015/01/01 00:00:00  2015     1  30.02\n",
       "1         AT  2015/01/01 01:00:00  2015     2  30.57\n",
       "2         AT  2015/01/01 02:00:00  2015     3  30.25\n",
       "3         AT  2015/01/01 03:00:00  2015     4  30.29\n",
       "4         AT  2015/01/01 04:00:00  2015     5  30.63"
      ]
     },
     "execution_count": 547,
     "metadata": {},
     "output_type": "execute_result"
    }
   ],
   "source": [
    "data_price.head()"
   ]
  },
  {
   "cell_type": "code",
   "execution_count": 548,
   "id": "dd47a139",
   "metadata": {},
   "outputs": [
    {
     "data": {
      "text/plain": [
       "(254040, 5)"
      ]
     },
     "execution_count": 548,
     "metadata": {},
     "output_type": "execute_result"
    }
   ],
   "source": [
    "data_price.shape"
   ]
  },
  {
   "cell_type": "markdown",
   "id": "7e361075",
   "metadata": {},
   "source": [
    "## Understanding the variable of the data"
   ]
  },
  {
   "cell_type": "raw",
   "id": "b79a8d4c",
   "metadata": {},
   "source": [
    "The dataset illustrate the price per hour of electricityy for each region.\n",
    "It contains 254040 and 5 rows.\n",
    "\n",
    "NUTS0_code: This variable refers to the Nomenclature of Territorial Units for Statistics (NUTS) level 0 code, which is a geocode standard used for statistical purposes in the European Union. It represents the country of origin for each observation in the dataset.\n",
    "\n",
    "datetime: This variable represents the date and time of each observation. The format of the datetime variable is \"yyyy/mm/dd hh:mm:ss\".\n",
    "\n",
    "year: This variable represents the year of each observation.\n",
    "\n",
    "hour: This variable represents the hour of the day for each observation. Note that the hour variable ranges from 1 to 8760.\n",
    "\n",
    "price: This variable represents the price of electricity for each observation. The prices were given in EURO/MWh.As day ahead prices were not available for all countries covered by the Hotmaps toolbox, reference countries were used for those missing time series.\n",
    "In countries with multiple price zones the price zones in which the capital city is located was chosen for the default data base in Hotmap"
   ]
  },
  {
   "cell_type": "markdown",
   "id": "133e9252",
   "metadata": {},
   "source": [
    "### Desciptive statistics (desccribe, missing data)"
   ]
  },
  {
   "cell_type": "code",
   "execution_count": 549,
   "id": "08bbd33c",
   "metadata": {},
   "outputs": [
    {
     "name": "stdout",
     "output_type": "stream",
     "text": [
      "<class 'pandas.core.frame.DataFrame'>\n",
      "RangeIndex: 254040 entries, 0 to 254039\n",
      "Data columns (total 5 columns):\n",
      " #   Column      Non-Null Count   Dtype  \n",
      "---  ------      --------------   -----  \n",
      " 0   NUTS0_code  254040 non-null  object \n",
      " 1   datetime    254040 non-null  object \n",
      " 2   year        254040 non-null  int64  \n",
      " 3   hour        254040 non-null  int64  \n",
      " 4   price       254040 non-null  float64\n",
      "dtypes: float64(1), int64(2), object(2)\n",
      "memory usage: 9.7+ MB\n"
     ]
    }
   ],
   "source": [
    "data_price.info()"
   ]
  },
  {
   "cell_type": "code",
   "execution_count": 517,
   "id": "afe2ad4a",
   "metadata": {},
   "outputs": [
    {
     "data": {
      "text/html": [
       "<div>\n",
       "<style scoped>\n",
       "    .dataframe tbody tr th:only-of-type {\n",
       "        vertical-align: middle;\n",
       "    }\n",
       "\n",
       "    .dataframe tbody tr th {\n",
       "        vertical-align: top;\n",
       "    }\n",
       "\n",
       "    .dataframe thead th {\n",
       "        text-align: right;\n",
       "    }\n",
       "</style>\n",
       "<table border=\"1\" class=\"dataframe\">\n",
       "  <thead>\n",
       "    <tr style=\"text-align: right;\">\n",
       "      <th></th>\n",
       "      <th>year</th>\n",
       "      <th>hour</th>\n",
       "      <th>price</th>\n",
       "    </tr>\n",
       "  </thead>\n",
       "  <tbody>\n",
       "    <tr>\n",
       "      <th>count</th>\n",
       "      <td>254040.0</td>\n",
       "      <td>254040.00000</td>\n",
       "      <td>254040.000000</td>\n",
       "    </tr>\n",
       "    <tr>\n",
       "      <th>mean</th>\n",
       "      <td>2015.0</td>\n",
       "      <td>4380.50000</td>\n",
       "      <td>39.996202</td>\n",
       "    </tr>\n",
       "    <tr>\n",
       "      <th>std</th>\n",
       "      <td>0.0</td>\n",
       "      <td>2528.79914</td>\n",
       "      <td>17.378832</td>\n",
       "    </tr>\n",
       "    <tr>\n",
       "      <th>min</th>\n",
       "      <td>2015.0</td>\n",
       "      <td>1.00000</td>\n",
       "      <td>-79.940000</td>\n",
       "    </tr>\n",
       "    <tr>\n",
       "      <th>25%</th>\n",
       "      <td>2015.0</td>\n",
       "      <td>2190.75000</td>\n",
       "      <td>28.040000</td>\n",
       "    </tr>\n",
       "    <tr>\n",
       "      <th>50%</th>\n",
       "      <td>2015.0</td>\n",
       "      <td>4380.50000</td>\n",
       "      <td>39.940000</td>\n",
       "    </tr>\n",
       "    <tr>\n",
       "      <th>75%</th>\n",
       "      <td>2015.0</td>\n",
       "      <td>6570.25000</td>\n",
       "      <td>50.990000</td>\n",
       "    </tr>\n",
       "    <tr>\n",
       "      <th>max</th>\n",
       "      <td>2015.0</td>\n",
       "      <td>8760.00000</td>\n",
       "      <td>920.770000</td>\n",
       "    </tr>\n",
       "  </tbody>\n",
       "</table>\n",
       "</div>"
      ],
      "text/plain": [
       "           year          hour          price\n",
       "count  254040.0  254040.00000  254040.000000\n",
       "mean     2015.0    4380.50000      39.996202\n",
       "std         0.0    2528.79914      17.378832\n",
       "min      2015.0       1.00000     -79.940000\n",
       "25%      2015.0    2190.75000      28.040000\n",
       "50%      2015.0    4380.50000      39.940000\n",
       "75%      2015.0    6570.25000      50.990000\n",
       "max      2015.0    8760.00000     920.770000"
      ]
     },
     "execution_count": 517,
     "metadata": {},
     "output_type": "execute_result"
    }
   ],
   "source": [
    "data_price.describe()"
   ]
  },
  {
   "cell_type": "code",
   "execution_count": 518,
   "id": "c6a63727",
   "metadata": {},
   "outputs": [
    {
     "data": {
      "text/plain": [
       "NUTS0_code    0\n",
       "datetime      0\n",
       "year          0\n",
       "hour          0\n",
       "price         0\n",
       "dtype: int64"
      ]
     },
     "execution_count": 518,
     "metadata": {},
     "output_type": "execute_result"
    }
   ],
   "source": [
    "#Checking for missing/ null values \n",
    "data_price.isna().sum()"
   ]
  },
  {
   "cell_type": "code",
   "execution_count": 519,
   "id": "90d2c248",
   "metadata": {},
   "outputs": [
    {
     "data": {
      "text/plain": [
       "NUTS0_code     object\n",
       "datetime       object\n",
       "year            int64\n",
       "hour            int64\n",
       "price         float64\n",
       "dtype: object"
      ]
     },
     "execution_count": 519,
     "metadata": {},
     "output_type": "execute_result"
    }
   ],
   "source": [
    "data_price.dtypes"
   ]
  },
  {
   "cell_type": "code",
   "execution_count": 520,
   "id": "90d9ee1f",
   "metadata": {},
   "outputs": [
    {
     "data": {
      "text/plain": [
       "0"
      ]
     },
     "execution_count": 520,
     "metadata": {},
     "output_type": "execute_result"
    }
   ],
   "source": [
    "data_price.duplicated().sum()"
   ]
  },
  {
   "cell_type": "markdown",
   "id": "89818d52",
   "metadata": {},
   "source": [
    "## Descriptive Analysis"
   ]
  },
  {
   "cell_type": "markdown",
   "id": "85e7f9e0",
   "metadata": {},
   "source": [
    "#### Checking the correlation of \"Price\" with other variable "
   ]
  },
  {
   "cell_type": "code",
   "execution_count": 521,
   "id": "bd271091",
   "metadata": {},
   "outputs": [
    {
     "name": "stdout",
     "output_type": "stream",
     "text": [
      "year          NaN\n",
      "hour     0.034126\n",
      "price    1.000000\n",
      "Name: price, dtype: float64\n"
     ]
    }
   ],
   "source": [
    "# Compute the correlation between the \"price\" column and other columns\n",
    "correlation_matrix = data_price.corr()\n",
    "price_correlations = correlation_matrix['price']\n",
    "\n",
    "# Print the correlation values\n",
    "print(price_correlations)"
   ]
  },
  {
   "cell_type": "code",
   "execution_count": null,
   "id": "8b2e9b22",
   "metadata": {},
   "outputs": [],
   "source": []
  },
  {
   "cell_type": "code",
   "execution_count": null,
   "id": "e84c3f89",
   "metadata": {},
   "outputs": [],
   "source": []
  },
  {
   "cell_type": "markdown",
   "id": "1bb8af27",
   "metadata": {},
   "source": [
    "## Eploratory Analysis and visualization "
   ]
  },
  {
   "cell_type": "markdown",
   "id": "ec91310e",
   "metadata": {},
   "source": [
    "#####  Line plot of the hourly prices over time for each country."
   ]
  },
  {
   "cell_type": "code",
   "execution_count": 522,
   "id": "21699d15",
   "metadata": {},
   "outputs": [
    {
     "data": {
      "image/png": "[encoded data removed]",
      "text/plain": [
       "<Figure size 1440x720 with 1 Axes>"
      ]
     },
     "metadata": {
      "needs_background": "light"
     },
     "output_type": "display_data"
    }
   ],
   "source": [
    "# Convert the \"datetime\" column to a datetime object\n",
    "data_price['datetime'] = pd.to_datetime(data_price['datetime'])\n",
    "\n",
    "# Create a separate line plot for each country\n",
    "for country in data_price['NUTS0_code'].unique():\n",
    "    # Subset the dataframe for the current country\n",
    "    country_df = data_price[data_price['NUTS0_code'] == country]\n",
    "    \n",
    "    # Create the line plot\n",
    "    plt.plot(country_df['datetime'], country_df['price'], label=country)\n",
    "\n",
    "# Add a legend, title, and axis labels to the plot\n",
    "plt.legend()\n",
    "plt.title('Hourly Prices by Country')\n",
    "plt.xlabel('Date')\n",
    "plt.ylabel('Price')\n",
    "\n",
    "# Display the plot\n",
    "plt.show()"
   ]
  },
  {
   "cell_type": "code",
   "execution_count": null,
   "id": "bd150a66",
   "metadata": {},
   "outputs": [],
   "source": []
  },
  {
   "cell_type": "markdown",
   "id": "50515a05",
   "metadata": {},
   "source": [
    "#### Shows the Distribution of price"
   ]
  },
  {
   "cell_type": "code",
   "execution_count": 523,
   "id": "968b550c",
   "metadata": {},
   "outputs": [
    {
     "data": {
      "image/png": "[encoded data removed]",
      "text/plain": [
       "<Figure size 1440x720 with 1 Axes>"
      ]
     },
     "metadata": {
      "needs_background": "light"
     },
     "output_type": "display_data"
    }
   ],
   "source": [
    "# Create a histogram of the \"price\" column\n",
    "plt.hist(data_price['price'], bins=20)\n",
    "\n",
    "# Add a title and axis labels to the plot\n",
    "plt.title('Distribution of Electricity Prices')\n",
    "plt.xlabel('Price')\n",
    "plt.ylabel('Frequency')\n",
    "\n",
    "# Display the plot\n",
    "plt.show()"
   ]
  },
  {
   "cell_type": "code",
   "execution_count": null,
   "id": "219fea43",
   "metadata": {},
   "outputs": [],
   "source": []
  },
  {
   "cell_type": "markdown",
   "id": "7556159a",
   "metadata": {},
   "source": [
    "#### Total price for electricity per region"
   ]
  },
  {
   "cell_type": "code",
   "execution_count": 460,
   "id": "a1a81673",
   "metadata": {},
   "outputs": [
    {
     "name": "stdout",
     "output_type": "stream",
     "text": [
      "NUTS0_code\n",
      "SE    192740.46000\n",
      "DK    200547.99000\n",
      "FI    259790.36000\n",
      "AT    278265.03000\n",
      "CZ    278265.03000\n",
      "DE    278265.03000\n",
      "LU    278265.03000\n",
      "SK    278265.03000\n",
      "PL    318262.67000\n",
      "BG    318993.03346\n",
      "RO    318993.03346\n",
      "FR    336627.43000\n",
      "NL    350930.48000\n",
      "UK    352369.32000\n",
      "CH    352900.15000\n",
      "HU    355645.10000\n",
      "SI    362892.18000\n",
      "HR    362892.18000\n",
      "LT    367204.22000\n",
      "LV    367204.22000\n",
      "EE    367204.22000\n",
      "IT    391385.78000\n",
      "BE    391385.78000\n",
      "ES    440794.63000\n",
      "PT    440794.63000\n",
      "EL    454838.27000\n",
      "IE    455622.54000\n",
      "MT    504645.69000\n",
      "CY    504645.69000\n",
      "Name: price, dtype: float64\n"
     ]
    }
   ],
   "source": [
    "# group the data by country and sum the electricity generation values\n",
    "grouped = data_price.groupby('NUTS0_code')['price'].sum()\n",
    "\n",
    "grouped_sorted = grouped.sort_values(ascending=True)\n",
    "print(grouped_sorted)"
   ]
  },
  {
   "cell_type": "code",
   "execution_count": 550,
   "id": "ce7ec564",
   "metadata": {},
   "outputs": [
    {
     "data": {
      "image/png": "[encoded data removed]",
      "text/plain": [
       "<Figure size 1440x720 with 1 Axes>"
      ]
     },
     "metadata": {
      "needs_background": "light"
     },
     "output_type": "display_data"
    }
   ],
   "source": [
    "plt.rcParams['figure.figsize'] = (20, 10)\n",
    "grouped_sorted.plot(kind='barh')\n",
    "plt.title('TotalPrice of ELectricity generated per Country')\n",
    "plt.show()"
   ]
  },
  {
   "cell_type": "code",
   "execution_count": null,
   "id": "183e3033",
   "metadata": {},
   "outputs": [],
   "source": []
  },
  {
   "cell_type": "markdown",
   "id": "f2a249b8",
   "metadata": {},
   "source": [
    "####  Boxplots of the \"price\" column by day of the week and by month "
   ]
  },
  {
   "cell_type": "code",
   "execution_count": 471,
   "id": "8ee93a6e",
   "metadata": {},
   "outputs": [
    {
     "data": {
      "image/png": "[encoded data removed]",
      "text/plain": [
       "<Figure size 576x432 with 1 Axes>"
      ]
     },
     "metadata": {
      "needs_background": "light"
     },
     "output_type": "display_data"
    },
    {
     "data": {
      "image/png": "[encoded data removed]",
      "text/plain": [
       "<Figure size 576x432 with 1 Axes>"
      ]
     },
     "metadata": {
      "needs_background": "light"
     },
     "output_type": "display_data"
    }
   ],
   "source": [
    "# Convert the \"datetime\" column to a datetime object and extract the day of the week and month\n",
    "data_price['datetime'] = pd.to_datetime(data_price['datetime'])\n",
    "data_price['day_of_week'] = data_price['datetime'].dt.dayofweek\n",
    "data_price['month'] = data_price['datetime'].dt.month\n",
    "\n",
    "# Create a boxplot of the \"price\" column by day of the week\n",
    "data_price.boxplot(column='price', by='day_of_week', figsize=(8, 6))\n",
    "plt.title('Electricity Prices by Day of Week')\n",
    "plt.xlabel('Day of Week')\n",
    "plt.ylabel('Price')\n",
    "plt.show()\n",
    "\n",
    "# Create a boxplot of the \"price\" column by month\n",
    "data_price.boxplot(column='price', by='month', figsize=(8, 6))\n",
    "plt.title('Electricity Prices by Month')\n",
    "plt.xlabel('Month')\n",
    "plt.ylabel('Price')\n",
    "plt.show()"
   ]
  },
  {
   "cell_type": "code",
   "execution_count": null,
   "id": "c147a8cd",
   "metadata": {},
   "outputs": [],
   "source": []
  }
 ],
 "metadata": {
  "kernelspec": {
   "display_name": "Python 3 (ipykernel)",
   "language": "python",
   "name": "python3"
  },
  "language_info": {
   "codemirror_mode": {
    "name": "ipython",
    "version": 3
   },
   "file_extension": ".py",
   "mimetype": "text/x-python",
   "name": "python",
   "nbconvert_exporter": "python",
   "pygments_lexer": "ipython3",
   "version": "3.9.12"
  }
 },
 "nbformat": 4,
 "nbformat_minor": 5
}
